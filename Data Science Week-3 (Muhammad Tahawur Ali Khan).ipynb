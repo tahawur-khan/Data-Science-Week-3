{
 "cells": [
  {
   "cell_type": "markdown",
   "id": "8e3090be",
   "metadata": {},
   "source": [
    "#  WEEK - 3 DATA SCIENCE \n",
    "#  Web Scraping with Different Tools and Techniques "
   ]
  },
  {
   "cell_type": "markdown",
   "id": "0f5395b3",
   "metadata": {},
   "source": [
    "# 1. Scraping Data Using Requests and BeautifulSoup"
   ]
  },
  {
   "cell_type": "markdown",
   "id": "5a83bef1",
   "metadata": {},
   "source": [
    "# 1.1 Installing Necessary Libraries "
   ]
  },
  {
   "cell_type": "code",
   "execution_count": 2,
   "id": "194d272f",
   "metadata": {},
   "outputs": [
    {
     "name": "stdout",
     "output_type": "stream",
     "text": [
      "Requirement already satisfied: requests in c:\\users\\tahawur\\anaconda3\\lib\\site-packages (2.32.3)\n",
      "Requirement already satisfied: charset-normalizer<4,>=2 in c:\\users\\tahawur\\anaconda3\\lib\\site-packages (from requests) (2.0.4)\n",
      "Requirement already satisfied: idna<4,>=2.5 in c:\\users\\tahawur\\anaconda3\\lib\\site-packages (from requests) (3.4)\n",
      "Requirement already satisfied: urllib3<3,>=1.21.1 in c:\\users\\tahawur\\anaconda3\\lib\\site-packages (from requests) (2.0.7)\n",
      "Requirement already satisfied: certifi>=2017.4.17 in c:\\users\\tahawur\\anaconda3\\lib\\site-packages (from requests) (2024.8.30)\n",
      "Requirement already satisfied: beautifulsoup4 in c:\\users\\tahawur\\anaconda3\\lib\\site-packages (4.12.2)\n",
      "Requirement already satisfied: soupsieve>1.2 in c:\\users\\tahawur\\anaconda3\\lib\\site-packages (from beautifulsoup4) (2.5)\n"
     ]
    }
   ],
   "source": [
    "!pip install requests\n",
    "!pip install beautifulsoup4\n"
   ]
  },
  {
   "cell_type": "markdown",
   "id": "6747e38b",
   "metadata": {},
   "source": [
    "# 1.2 Importing Necessary Libraries"
   ]
  },
  {
   "cell_type": "code",
   "execution_count": 28,
   "id": "7936ede8",
   "metadata": {},
   "outputs": [],
   "source": [
    "import requests\n",
    "from bs4 import BeautifulSoup\n",
    "import csv"
   ]
  },
  {
   "cell_type": "markdown",
   "id": "2cdcb353",
   "metadata": {},
   "source": [
    "# 1.3 Get Request to Website "
   ]
  },
  {
   "cell_type": "code",
   "execution_count": 37,
   "id": "76f86946",
   "metadata": {},
   "outputs": [],
   "source": [
    "# Sending  a GET request to the website\n",
    "\n",
    "url = 'https://www.nationalgeographic.com/'\n",
    "response = requests.get(url)"
   ]
  },
  {
   "cell_type": "markdown",
   "id": "1ea75c41",
   "metadata": {},
   "source": [
    "# 1.4 Parse the HTML Content"
   ]
  },
  {
   "cell_type": "code",
   "execution_count": 38,
   "id": "bb7bf3d9",
   "metadata": {},
   "outputs": [],
   "source": [
    "# Parse the HTML content of the page\n",
    "\n",
    "soup = BeautifulSoup(response.text, 'html.parser')"
   ]
  },
  {
   "cell_type": "markdown",
   "id": "002478df",
   "metadata": {},
   "source": [
    "# 1.5 Extracting Relevant Data (All Headings)"
   ]
  },
  {
   "cell_type": "code",
   "execution_count": 39,
   "id": "8737005d",
   "metadata": {},
   "outputs": [],
   "source": [
    "# Extract relevant data (e.g., all headings)\n",
    "\n",
    "headings = soup.find_all('h2') "
   ]
  },
  {
   "cell_type": "markdown",
   "id": "4e96b7aa",
   "metadata": {},
   "source": [
    "# 1.6 Storing Extracted Data into a CSV File"
   ]
  },
  {
   "cell_type": "code",
   "execution_count": 40,
   "id": "4c083313",
   "metadata": {},
   "outputs": [
    {
     "name": "stdout",
     "output_type": "stream",
     "text": [
      "Data has been saved to scraped_data.csv\n"
     ]
    }
   ],
   "source": [
    "#  Storing the extracted data into a CSV file\n",
    "\n",
    "with open('scraped_data.csv', 'w', newline='') as file:\n",
    "    writer = csv.writer(file)\n",
    "    writer.writerow(['Heading']) \n",
    "    for heading in headings:\n",
    "        writer.writerow([heading.get_text()])\n",
    "\n",
    "print(\"Data has been saved to scraped_data.csv\")"
   ]
  },
  {
   "cell_type": "code",
   "execution_count": null,
   "id": "faa63c4d",
   "metadata": {},
   "outputs": [],
   "source": []
  },
  {
   "cell_type": "markdown",
   "id": "cb9488a1",
   "metadata": {},
   "source": [
    "# 2 Scrape Data Using Selenium for Dynamic Content"
   ]
  },
  {
   "cell_type": "markdown",
   "id": "bfd1b9cf",
   "metadata": {},
   "source": [
    "# 2.1  Installation of Required Libraries"
   ]
  },
  {
   "cell_type": "code",
   "execution_count": 15,
   "id": "e1290ed8",
   "metadata": {},
   "outputs": [
    {
     "name": "stdout",
     "output_type": "stream",
     "text": [
      "Collecting selenium\n",
      "  Downloading selenium-4.27.1-py3-none-any.whl.metadata (7.1 kB)\n",
      "Requirement already satisfied: urllib3<3,>=1.26 in c:\\users\\tahawur\\anaconda3\\lib\\site-packages (from urllib3[socks]<3,>=1.26->selenium) (2.0.7)\n",
      "Collecting trio~=0.17 (from selenium)\n",
      "  Downloading trio-0.27.0-py3-none-any.whl.metadata (8.6 kB)\n",
      "Collecting trio-websocket~=0.9 (from selenium)\n",
      "  Downloading trio_websocket-0.11.1-py3-none-any.whl.metadata (4.7 kB)\n",
      "Requirement already satisfied: certifi>=2021.10.8 in c:\\users\\tahawur\\anaconda3\\lib\\site-packages (from selenium) (2024.8.30)\n",
      "Requirement already satisfied: typing_extensions~=4.9 in c:\\users\\tahawur\\anaconda3\\lib\\site-packages (from selenium) (4.9.0)\n",
      "Collecting websocket-client~=1.8 (from selenium)\n",
      "  Downloading websocket_client-1.8.0-py3-none-any.whl.metadata (8.0 kB)\n",
      "Collecting attrs>=23.2.0 (from trio~=0.17->selenium)\n",
      "  Downloading attrs-24.2.0-py3-none-any.whl.metadata (11 kB)\n",
      "Requirement already satisfied: sortedcontainers in c:\\users\\tahawur\\anaconda3\\lib\\site-packages (from trio~=0.17->selenium) (2.4.0)\n",
      "Requirement already satisfied: idna in c:\\users\\tahawur\\anaconda3\\lib\\site-packages (from trio~=0.17->selenium) (3.4)\n",
      "Collecting outcome (from trio~=0.17->selenium)\n",
      "  Downloading outcome-1.3.0.post0-py2.py3-none-any.whl.metadata (2.6 kB)\n",
      "Requirement already satisfied: sniffio>=1.3.0 in c:\\users\\tahawur\\anaconda3\\lib\\site-packages (from trio~=0.17->selenium) (1.3.0)\n",
      "Requirement already satisfied: cffi>=1.14 in c:\\users\\tahawur\\anaconda3\\lib\\site-packages (from trio~=0.17->selenium) (1.16.0)\n",
      "Collecting wsproto>=0.14 (from trio-websocket~=0.9->selenium)\n",
      "  Downloading wsproto-1.2.0-py3-none-any.whl.metadata (5.6 kB)\n",
      "Requirement already satisfied: pysocks!=1.5.7,<2.0,>=1.5.6 in c:\\users\\tahawur\\anaconda3\\lib\\site-packages (from urllib3[socks]<3,>=1.26->selenium) (1.7.1)\n",
      "Requirement already satisfied: pycparser in c:\\users\\tahawur\\anaconda3\\lib\\site-packages (from cffi>=1.14->trio~=0.17->selenium) (2.21)\n",
      "Requirement already satisfied: h11<1,>=0.9.0 in c:\\users\\tahawur\\anaconda3\\lib\\site-packages (from wsproto>=0.14->trio-websocket~=0.9->selenium) (0.14.0)\n",
      "Downloading selenium-4.27.1-py3-none-any.whl (9.7 MB)\n",
      "   ---------------------------------------- 0.0/9.7 MB ? eta -:--:--\n",
      "   ---------------------------------------- 0.0/9.7 MB 1.3 MB/s eta 0:00:08\n",
      "   ---------------------------------------- 0.1/9.7 MB 919.0 kB/s eta 0:00:11\n",
      "    --------------------------------------- 0.1/9.7 MB 1.1 MB/s eta 0:00:09\n",
      "    --------------------------------------- 0.2/9.7 MB 1.1 MB/s eta 0:00:09\n",
      "   - -------------------------------------- 0.3/9.7 MB 1.1 MB/s eta 0:00:09\n",
      "   - -------------------------------------- 0.3/9.7 MB 1.1 MB/s eta 0:00:09\n",
      "   - -------------------------------------- 0.4/9.7 MB 1.1 MB/s eta 0:00:09\n",
      "   - -------------------------------------- 0.4/9.7 MB 1.1 MB/s eta 0:00:09\n",
      "   - -------------------------------------- 0.5/9.7 MB 1.1 MB/s eta 0:00:09\n",
      "   -- ------------------------------------- 0.5/9.7 MB 1.2 MB/s eta 0:00:08\n",
      "   -- ------------------------------------- 0.6/9.7 MB 1.1 MB/s eta 0:00:09\n",
      "   -- ------------------------------------- 0.6/9.7 MB 1.2 MB/s eta 0:00:08\n",
      "   -- ------------------------------------- 0.7/9.7 MB 1.1 MB/s eta 0:00:08\n",
      "   --- ------------------------------------ 0.7/9.7 MB 1.2 MB/s eta 0:00:08\n",
      "   --- ------------------------------------ 0.8/9.7 MB 1.2 MB/s eta 0:00:08\n",
      "   --- ------------------------------------ 0.9/9.7 MB 1.2 MB/s eta 0:00:08\n",
      "   --- ------------------------------------ 0.9/9.7 MB 1.2 MB/s eta 0:00:08\n",
      "   ---- ----------------------------------- 1.0/9.7 MB 1.2 MB/s eta 0:00:08\n",
      "   ---- ----------------------------------- 1.0/9.7 MB 1.2 MB/s eta 0:00:08\n",
      "   ---- ----------------------------------- 1.1/9.7 MB 1.2 MB/s eta 0:00:08\n",
      "   ---- ----------------------------------- 1.1/9.7 MB 1.2 MB/s eta 0:00:08\n",
      "   ---- ----------------------------------- 1.2/9.7 MB 1.2 MB/s eta 0:00:08\n",
      "   ----- ---------------------------------- 1.3/9.7 MB 1.2 MB/s eta 0:00:08\n",
      "   ----- ---------------------------------- 1.3/9.7 MB 1.2 MB/s eta 0:00:08\n",
      "   ----- ---------------------------------- 1.4/9.7 MB 1.2 MB/s eta 0:00:08\n",
      "   ----- ---------------------------------- 1.4/9.7 MB 1.2 MB/s eta 0:00:07\n",
      "   ------ --------------------------------- 1.5/9.7 MB 1.2 MB/s eta 0:00:07\n",
      "   ------ --------------------------------- 1.5/9.7 MB 1.2 MB/s eta 0:00:07\n",
      "   ------ --------------------------------- 1.6/9.7 MB 1.2 MB/s eta 0:00:07\n",
      "   ------ --------------------------------- 1.6/9.7 MB 1.2 MB/s eta 0:00:07\n",
      "   ------ --------------------------------- 1.6/9.7 MB 1.2 MB/s eta 0:00:07\n",
      "   ------ --------------------------------- 1.6/9.7 MB 1.2 MB/s eta 0:00:07\n",
      "   ------ --------------------------------- 1.6/9.7 MB 1.2 MB/s eta 0:00:07\n",
      "   ------ --------------------------------- 1.6/9.7 MB 1.2 MB/s eta 0:00:07\n",
      "   ------- -------------------------------- 1.8/9.7 MB 1.1 MB/s eta 0:00:07\n",
      "   ------- -------------------------------- 1.8/9.7 MB 1.1 MB/s eta 0:00:07\n",
      "   ------- -------------------------------- 1.9/9.7 MB 1.1 MB/s eta 0:00:07\n",
      "   -------- ------------------------------- 2.0/9.7 MB 1.1 MB/s eta 0:00:07\n",
      "   -------- ------------------------------- 2.0/9.7 MB 1.1 MB/s eta 0:00:07\n",
      "   -------- ------------------------------- 2.1/9.7 MB 1.1 MB/s eta 0:00:07\n",
      "   -------- ------------------------------- 2.1/9.7 MB 1.1 MB/s eta 0:00:07\n",
      "   -------- ------------------------------- 2.2/9.7 MB 1.1 MB/s eta 0:00:07\n",
      "   --------- ------------------------------ 2.2/9.7 MB 1.1 MB/s eta 0:00:07\n",
      "   --------- ------------------------------ 2.3/9.7 MB 1.1 MB/s eta 0:00:07\n",
      "   --------- ------------------------------ 2.4/9.7 MB 1.1 MB/s eta 0:00:07\n",
      "   --------- ------------------------------ 2.4/9.7 MB 1.1 MB/s eta 0:00:07\n",
      "   ---------- ----------------------------- 2.5/9.7 MB 1.1 MB/s eta 0:00:07\n",
      "   ---------- ----------------------------- 2.5/9.7 MB 1.1 MB/s eta 0:00:07\n",
      "   ---------- ----------------------------- 2.6/9.7 MB 1.1 MB/s eta 0:00:07\n",
      "   ---------- ----------------------------- 2.6/9.7 MB 1.1 MB/s eta 0:00:07\n",
      "   ----------- ---------------------------- 2.7/9.7 MB 1.1 MB/s eta 0:00:07\n",
      "   ----------- ---------------------------- 2.7/9.7 MB 1.1 MB/s eta 0:00:07\n",
      "   ----------- ---------------------------- 2.8/9.7 MB 1.1 MB/s eta 0:00:07\n",
      "   ----------- ---------------------------- 2.8/9.7 MB 1.1 MB/s eta 0:00:07\n",
      "   ----------- ---------------------------- 2.9/9.7 MB 1.1 MB/s eta 0:00:06\n",
      "   ------------ --------------------------- 3.0/9.7 MB 1.1 MB/s eta 0:00:06\n",
      "   ------------ --------------------------- 3.0/9.7 MB 1.1 MB/s eta 0:00:06\n",
      "   ------------ --------------------------- 3.1/9.7 MB 1.1 MB/s eta 0:00:06\n",
      "   ------------ --------------------------- 3.1/9.7 MB 1.1 MB/s eta 0:00:06\n",
      "   ------------- -------------------------- 3.2/9.7 MB 1.1 MB/s eta 0:00:06\n",
      "   ------------- -------------------------- 3.2/9.7 MB 1.1 MB/s eta 0:00:06\n",
      "   ------------- -------------------------- 3.3/9.7 MB 1.1 MB/s eta 0:00:06\n",
      "   ------------- -------------------------- 3.3/9.7 MB 1.2 MB/s eta 0:00:06\n",
      "   -------------- ------------------------- 3.4/9.7 MB 1.1 MB/s eta 0:00:06\n",
      "   -------------- ------------------------- 3.5/9.7 MB 1.2 MB/s eta 0:00:06\n",
      "   -------------- ------------------------- 3.5/9.7 MB 1.1 MB/s eta 0:00:06\n",
      "   -------------- ------------------------- 3.6/9.7 MB 1.1 MB/s eta 0:00:06\n",
      "   -------------- ------------------------- 3.6/9.7 MB 1.2 MB/s eta 0:00:06\n",
      "   --------------- ------------------------ 3.7/9.7 MB 1.2 MB/s eta 0:00:06\n",
      "   --------------- ------------------------ 3.7/9.7 MB 1.2 MB/s eta 0:00:06\n",
      "   --------------- ------------------------ 3.8/9.7 MB 1.2 MB/s eta 0:00:06\n",
      "   --------------- ------------------------ 3.8/9.7 MB 1.2 MB/s eta 0:00:06\n",
      "   ---------------- ----------------------- 3.9/9.7 MB 1.2 MB/s eta 0:00:06\n",
      "   ---------------- ----------------------- 4.0/9.7 MB 1.2 MB/s eta 0:00:05\n",
      "   ---------------- ----------------------- 4.0/9.7 MB 1.2 MB/s eta 0:00:05\n",
      "   ---------------- ----------------------- 4.1/9.7 MB 1.2 MB/s eta 0:00:05\n",
      "   ---------------- ----------------------- 4.1/9.7 MB 1.2 MB/s eta 0:00:05\n",
      "   ----------------- ---------------------- 4.2/9.7 MB 1.2 MB/s eta 0:00:05\n",
      "   ----------------- ---------------------- 4.2/9.7 MB 1.2 MB/s eta 0:00:05\n",
      "   ----------------- ---------------------- 4.3/9.7 MB 1.2 MB/s eta 0:00:05\n",
      "   ----------------- ---------------------- 4.3/9.7 MB 1.2 MB/s eta 0:00:05\n",
      "   ------------------ --------------------- 4.4/9.7 MB 1.2 MB/s eta 0:00:05\n",
      "   ------------------ --------------------- 4.4/9.7 MB 1.2 MB/s eta 0:00:05\n",
      "   ------------------ --------------------- 4.5/9.7 MB 1.2 MB/s eta 0:00:05\n",
      "   ------------------ --------------------- 4.5/9.7 MB 1.2 MB/s eta 0:00:05\n",
      "   ------------------ --------------------- 4.6/9.7 MB 1.2 MB/s eta 0:00:05\n",
      "   ------------------- -------------------- 4.7/9.7 MB 1.2 MB/s eta 0:00:05\n",
      "   ------------------- -------------------- 4.7/9.7 MB 1.2 MB/s eta 0:00:05\n",
      "   ------------------- -------------------- 4.8/9.7 MB 1.2 MB/s eta 0:00:05\n",
      "   ------------------- -------------------- 4.8/9.7 MB 1.2 MB/s eta 0:00:05\n",
      "   -------------------- ------------------- 4.9/9.7 MB 1.2 MB/s eta 0:00:05\n",
      "   -------------------- ------------------- 4.9/9.7 MB 1.2 MB/s eta 0:00:05\n",
      "   -------------------- ------------------- 5.0/9.7 MB 1.2 MB/s eta 0:00:05\n",
      "   -------------------- ------------------- 5.0/9.7 MB 1.2 MB/s eta 0:00:05\n",
      "   --------------------- ------------------ 5.1/9.7 MB 1.2 MB/s eta 0:00:04\n",
      "   --------------------- ------------------ 5.1/9.7 MB 1.2 MB/s eta 0:00:04\n",
      "   --------------------- ------------------ 5.2/9.7 MB 1.2 MB/s eta 0:00:04\n",
      "   --------------------- ------------------ 5.3/9.7 MB 1.2 MB/s eta 0:00:04\n",
      "   --------------------- ------------------ 5.3/9.7 MB 1.2 MB/s eta 0:00:04\n",
      "   ---------------------- ----------------- 5.4/9.7 MB 1.2 MB/s eta 0:00:04\n",
      "   ---------------------- ----------------- 5.4/9.7 MB 1.2 MB/s eta 0:00:04\n",
      "   ---------------------- ----------------- 5.5/9.7 MB 1.2 MB/s eta 0:00:04\n",
      "   ---------------------- ----------------- 5.6/9.7 MB 1.2 MB/s eta 0:00:04\n",
      "   ----------------------- ---------------- 5.6/9.7 MB 1.2 MB/s eta 0:00:04\n",
      "   ----------------------- ---------------- 5.7/9.7 MB 1.2 MB/s eta 0:00:04\n",
      "   ----------------------- ---------------- 5.7/9.7 MB 1.2 MB/s eta 0:00:04\n",
      "   ----------------------- ---------------- 5.8/9.7 MB 1.2 MB/s eta 0:00:04\n",
      "   ------------------------ --------------- 5.8/9.7 MB 1.2 MB/s eta 0:00:04\n",
      "   ------------------------ --------------- 5.9/9.7 MB 1.2 MB/s eta 0:00:04\n",
      "   ------------------------ --------------- 5.9/9.7 MB 1.2 MB/s eta 0:00:04\n",
      "   ------------------------ --------------- 6.0/9.7 MB 1.2 MB/s eta 0:00:04\n",
      "   ------------------------ --------------- 6.1/9.7 MB 1.2 MB/s eta 0:00:04\n",
      "   ------------------------- -------------- 6.1/9.7 MB 1.2 MB/s eta 0:00:04\n",
      "   ------------------------- -------------- 6.2/9.7 MB 1.2 MB/s eta 0:00:04\n",
      "   ------------------------- -------------- 6.2/9.7 MB 1.2 MB/s eta 0:00:03\n",
      "   ------------------------- -------------- 6.3/9.7 MB 1.2 MB/s eta 0:00:03\n",
      "   -------------------------- ------------- 6.3/9.7 MB 1.2 MB/s eta 0:00:03\n",
      "   -------------------------- ------------- 6.4/9.7 MB 1.2 MB/s eta 0:00:03\n",
      "   -------------------------- ------------- 6.5/9.7 MB 1.2 MB/s eta 0:00:03\n",
      "   -------------------------- ------------- 6.5/9.7 MB 1.2 MB/s eta 0:00:03\n",
      "   -------------------------- ------------- 6.5/9.7 MB 1.2 MB/s eta 0:00:03\n",
      "   --------------------------- ------------ 6.6/9.7 MB 1.2 MB/s eta 0:00:03\n",
      "   --------------------------- ------------ 6.7/9.7 MB 1.2 MB/s eta 0:00:03\n",
      "   --------------------------- ------------ 6.7/9.7 MB 1.2 MB/s eta 0:00:03\n",
      "   --------------------------- ------------ 6.8/9.7 MB 1.2 MB/s eta 0:00:03\n",
      "   ---------------------------- ----------- 6.8/9.7 MB 1.2 MB/s eta 0:00:03\n",
      "   ---------------------------- ----------- 6.9/9.7 MB 1.2 MB/s eta 0:00:03\n",
      "   ---------------------------- ----------- 6.9/9.7 MB 1.2 MB/s eta 0:00:03\n",
      "   ---------------------------- ----------- 7.0/9.7 MB 1.2 MB/s eta 0:00:03\n",
      "   ----------------------------- ---------- 7.1/9.7 MB 1.2 MB/s eta 0:00:03\n",
      "   ----------------------------- ---------- 7.1/9.7 MB 1.2 MB/s eta 0:00:03\n",
      "   ----------------------------- ---------- 7.2/9.7 MB 1.2 MB/s eta 0:00:03\n",
      "   ----------------------------- ---------- 7.2/9.7 MB 1.2 MB/s eta 0:00:03\n",
      "   ----------------------------- ---------- 7.3/9.7 MB 1.2 MB/s eta 0:00:03\n",
      "   ------------------------------ --------- 7.3/9.7 MB 1.2 MB/s eta 0:00:03\n",
      "   ------------------------------ --------- 7.4/9.7 MB 1.2 MB/s eta 0:00:02\n",
      "   ------------------------------ --------- 7.4/9.7 MB 1.2 MB/s eta 0:00:02\n",
      "   ------------------------------ --------- 7.5/9.7 MB 1.2 MB/s eta 0:00:02\n",
      "   ------------------------------- -------- 7.5/9.7 MB 1.2 MB/s eta 0:00:02\n",
      "   ------------------------------- -------- 7.6/9.7 MB 1.2 MB/s eta 0:00:02\n",
      "   ------------------------------- -------- 7.7/9.7 MB 1.2 MB/s eta 0:00:02\n",
      "   ------------------------------- -------- 7.7/9.7 MB 1.2 MB/s eta 0:00:02\n",
      "   -------------------------------- ------- 7.8/9.7 MB 1.2 MB/s eta 0:00:02\n",
      "   -------------------------------- ------- 7.8/9.7 MB 1.2 MB/s eta 0:00:02\n",
      "   -------------------------------- ------- 7.9/9.7 MB 1.2 MB/s eta 0:00:02\n",
      "   -------------------------------- ------- 7.9/9.7 MB 1.2 MB/s eta 0:00:02\n",
      "   -------------------------------- ------- 8.0/9.7 MB 1.2 MB/s eta 0:00:02\n",
      "   --------------------------------- ------ 8.0/9.7 MB 1.2 MB/s eta 0:00:02\n",
      "   --------------------------------- ------ 8.1/9.7 MB 1.2 MB/s eta 0:00:02\n",
      "   --------------------------------- ------ 8.2/9.7 MB 1.2 MB/s eta 0:00:02\n",
      "   --------------------------------- ------ 8.2/9.7 MB 1.2 MB/s eta 0:00:02\n",
      "   ---------------------------------- ----- 8.3/9.7 MB 1.2 MB/s eta 0:00:02\n",
      "   ---------------------------------- ----- 8.3/9.7 MB 1.2 MB/s eta 0:00:02\n",
      "   ---------------------------------- ----- 8.4/9.7 MB 1.2 MB/s eta 0:00:02\n",
      "   ---------------------------------- ----- 8.4/9.7 MB 1.2 MB/s eta 0:00:02\n",
      "   ----------------------------------- ---- 8.5/9.7 MB 1.2 MB/s eta 0:00:02\n",
      "   ----------------------------------- ---- 8.5/9.7 MB 1.2 MB/s eta 0:00:01\n",
      "   ----------------------------------- ---- 8.6/9.7 MB 1.2 MB/s eta 0:00:01\n",
      "   ----------------------------------- ---- 8.7/9.7 MB 1.2 MB/s eta 0:00:01\n",
      "   ----------------------------------- ---- 8.7/9.7 MB 1.2 MB/s eta 0:00:01\n",
      "   ------------------------------------ --- 8.8/9.7 MB 1.2 MB/s eta 0:00:01\n",
      "   ------------------------------------ --- 8.8/9.7 MB 1.2 MB/s eta 0:00:01\n",
      "   ------------------------------------ --- 8.9/9.7 MB 1.2 MB/s eta 0:00:01\n",
      "   ------------------------------------ --- 8.9/9.7 MB 1.2 MB/s eta 0:00:01\n",
      "   ------------------------------------- -- 9.0/9.7 MB 1.2 MB/s eta 0:00:01\n",
      "   ------------------------------------- -- 9.0/9.7 MB 1.2 MB/s eta 0:00:01\n",
      "   ------------------------------------- -- 9.1/9.7 MB 1.2 MB/s eta 0:00:01\n",
      "   ------------------------------------- -- 9.2/9.7 MB 1.2 MB/s eta 0:00:01\n",
      "   ------------------------------------- -- 9.2/9.7 MB 1.2 MB/s eta 0:00:01\n",
      "   -------------------------------------- - 9.3/9.7 MB 1.2 MB/s eta 0:00:01\n",
      "   -------------------------------------- - 9.3/9.7 MB 1.2 MB/s eta 0:00:01\n",
      "   -------------------------------------- - 9.4/9.7 MB 1.2 MB/s eta 0:00:01\n",
      "   -------------------------------------- - 9.4/9.7 MB 1.2 MB/s eta 0:00:01\n",
      "   ---------------------------------------  9.5/9.7 MB 1.2 MB/s eta 0:00:01\n",
      "   ---------------------------------------  9.5/9.7 MB 1.2 MB/s eta 0:00:01\n",
      "   ---------------------------------------  9.6/9.7 MB 1.2 MB/s eta 0:00:01\n",
      "   ---------------------------------------  9.6/9.7 MB 1.2 MB/s eta 0:00:01\n",
      "   ---------------------------------------  9.7/9.7 MB 1.2 MB/s eta 0:00:01\n",
      "   ---------------------------------------  9.7/9.7 MB 1.2 MB/s eta 0:00:01\n",
      "   ---------------------------------------  9.7/9.7 MB 1.2 MB/s eta 0:00:01\n",
      "   ---------------------------------------  9.7/9.7 MB 1.2 MB/s eta 0:00:01\n",
      "   ---------------------------------------  9.7/9.7 MB 1.2 MB/s eta 0:00:01\n",
      "   ---------------------------------------  9.7/9.7 MB 1.2 MB/s eta 0:00:01\n",
      "   ---------------------------------------- 9.7/9.7 MB 1.1 MB/s eta 0:00:00\n",
      "Downloading trio-0.27.0-py3-none-any.whl (481 kB)\n",
      "   ---------------------------------------- 0.0/481.7 kB ? eta -:--:--\n",
      "   ----- ---------------------------------- 61.4/481.7 kB 1.6 MB/s eta 0:00:01\n",
      "   ----------- ---------------------------- 143.4/481.7 kB 1.4 MB/s eta 0:00:01\n",
      "   ----------------- ---------------------- 215.0/481.7 kB 1.3 MB/s eta 0:00:01\n",
      "   ---------------------- ----------------- 266.2/481.7 kB 1.3 MB/s eta 0:00:01\n",
      "   -------------------------- ------------- 317.4/481.7 kB 1.3 MB/s eta 0:00:01\n",
      "   ------------------------------- -------- 378.9/481.7 kB 1.2 MB/s eta 0:00:01\n",
      "   ----------------------------------- ---- 430.1/481.7 kB 1.3 MB/s eta 0:00:01\n",
      "   ---------------------------------------  481.3/481.7 kB 1.3 MB/s eta 0:00:01\n",
      "   ---------------------------------------  481.3/481.7 kB 1.3 MB/s eta 0:00:01\n",
      "   ---------------------------------------- 481.7/481.7 kB 1.0 MB/s eta 0:00:00\n",
      "Downloading trio_websocket-0.11.1-py3-none-any.whl (17 kB)\n",
      "Downloading websocket_client-1.8.0-py3-none-any.whl (58 kB)\n",
      "   ---------------------------------------- 0.0/58.8 kB ? eta -:--:--\n",
      "   ---------------------------------- ----- 51.2/58.8 kB 1.3 MB/s eta 0:00:01\n",
      "   ---------------------------------- ----- 51.2/58.8 kB 1.3 MB/s eta 0:00:01\n",
      "   ---------------------------------- ----- 51.2/58.8 kB 1.3 MB/s eta 0:00:01\n",
      "   ---------------------------------- ----- 51.2/58.8 kB 1.3 MB/s eta 0:00:01\n",
      "   ---------------------------------------- 58.8/58.8 kB 258.4 kB/s eta 0:00:00\n",
      "Downloading attrs-24.2.0-py3-none-any.whl (63 kB)\n",
      "   ---------------------------------------- 0.0/63.0 kB ? eta -:--:--\n",
      "   ---------------------------------------  61.4/63.0 kB 1.1 MB/s eta 0:00:01\n",
      "   ---------------------------------------  61.4/63.0 kB 1.1 MB/s eta 0:00:01\n",
      "   ---------------------------------------- 63.0/63.0 kB 374.2 kB/s eta 0:00:00\n",
      "Downloading wsproto-1.2.0-py3-none-any.whl (24 kB)\n",
      "Downloading outcome-1.3.0.post0-py2.py3-none-any.whl (10 kB)\n",
      "Installing collected packages: wsproto, websocket-client, attrs, outcome, trio, trio-websocket, selenium\n",
      "  Attempting uninstall: websocket-client\n",
      "    Found existing installation: websocket-client 0.58.0\n",
      "    Uninstalling websocket-client-0.58.0:\n",
      "      Successfully uninstalled websocket-client-0.58.0\n",
      "  Attempting uninstall: attrs\n",
      "    Found existing installation: attrs 23.1.0\n",
      "    Uninstalling attrs-23.1.0:\n",
      "      Successfully uninstalled attrs-23.1.0\n",
      "Successfully installed attrs-24.2.0 outcome-1.3.0.post0 selenium-4.27.1 trio-0.27.0 trio-websocket-0.11.1 websocket-client-1.8.0 wsproto-1.2.0\n",
      "Note: you may need to restart the kernel to use updated packages.\n"
     ]
    }
   ],
   "source": [
    "pip install selenium\n"
   ]
  },
  {
   "cell_type": "markdown",
   "id": "db7bef47",
   "metadata": {},
   "source": [
    "# 2.2 Importing Necessary Libraries"
   ]
  },
  {
   "cell_type": "code",
   "execution_count": 16,
   "id": "f08ab398",
   "metadata": {},
   "outputs": [],
   "source": [
    "from selenium import webdriver\n",
    "from selenium.webdriver.common.by import By\n",
    "import time\n",
    "import csv"
   ]
  },
  {
   "cell_type": "markdown",
   "id": "2185951b",
   "metadata": {},
   "source": [
    "# 2.3 Setting Up Selenium WebDriver"
   ]
  },
  {
   "cell_type": "code",
   "execution_count": 17,
   "id": "989e6fb9",
   "metadata": {},
   "outputs": [],
   "source": [
    "# Set up Selenium WebDriver\n",
    "\n",
    "driver = webdriver.Chrome()"
   ]
  },
  {
   "cell_type": "markdown",
   "id": "93a37fcf",
   "metadata": {},
   "source": [
    "# 2.4 URL of the Website"
   ]
  },
  {
   "cell_type": "code",
   "execution_count": 20,
   "id": "755e0fe3",
   "metadata": {},
   "outputs": [],
   "source": [
    "url = 'https://www.tripadvisor.com/'\n",
    "driver.get(url)"
   ]
  },
  {
   "cell_type": "markdown",
   "id": "a4868bd1",
   "metadata": {},
   "source": [
    "# 2.5 Scrapping Data"
   ]
  },
  {
   "cell_type": "code",
   "execution_count": 21,
   "id": "8dbdddc1",
   "metadata": {},
   "outputs": [],
   "source": [
    "# Scraping data (e.g., all headings)\n",
    "\n",
    "headings = driver.find_elements(By.TAG_NAME, 'h2')"
   ]
  },
  {
   "cell_type": "markdown",
   "id": "6da9588d",
   "metadata": {},
   "source": [
    "# 2.6 Storing Extracted Data into a CSV file"
   ]
  },
  {
   "cell_type": "code",
   "execution_count": 22,
   "id": "c0d20b42",
   "metadata": {},
   "outputs": [],
   "source": [
    "# Store the extracted data into a CSV file\n",
    "\n",
    "with open('scraped_data_selenium.csv', 'w', newline='') as file:\n",
    "    writer = csv.writer(file)\n",
    "    writer.writerow(['Heading'])  # Column header\n",
    "    for heading in headings:\n",
    "        writer.writerow([heading.text])"
   ]
  },
  {
   "cell_type": "markdown",
   "id": "91573ceb",
   "metadata": {},
   "source": [
    "# 2.7 Closing the Browser "
   ]
  },
  {
   "cell_type": "code",
   "execution_count": 23,
   "id": "7b0ccdd0",
   "metadata": {},
   "outputs": [
    {
     "name": "stdout",
     "output_type": "stream",
     "text": [
      "Data has been saved to scraped_data_selenium.csv\n"
     ]
    }
   ],
   "source": [
    "#  Close the browser\n",
    "\n",
    "driver.quit()\n",
    "\n",
    "print(\"Data has been saved to scraped_data_selenium.csv\")"
   ]
  },
  {
   "cell_type": "code",
   "execution_count": null,
   "id": "083cfa30",
   "metadata": {},
   "outputs": [],
   "source": []
  },
  {
   "cell_type": "markdown",
   "id": "49a6540f",
   "metadata": {},
   "source": [
    "# Scrapy Method\n",
    "\n",
    "**I have done scrapy method on VS code and shared the file of it as well**"
   ]
  },
  {
   "cell_type": "markdown",
   "id": "401a3570",
   "metadata": {},
   "source": [
    "# Comparison of Methods\n",
    "\n",
    "**After performing the scraping with each of the three methods, here's my take on scraping data on different methods:**\n",
    "\n",
    "**1. Ease of Use:**\n",
    "\n",
    "**requests + BeautifulSoup:** Simple to use, requires minimal setup, and is ideal for static content.\n",
    "\n",
    "**Scrapy:** More complex to set up but offers better scalability and control. Scrapy is faster for large scraping tasks.\n",
    "\n",
    "**Selenium:** Best for handling dynamic websites (JavaScript-rendered content), but slower than other methods because it interacts with a real browser.\n",
    "\n",
    "**2. Speed:**\n",
    "\n",
    "**requests + BeautifulSoup:** Fastest because it does not need to load a browser.\n",
    "\n",
    "**Scrapy:** Fast, especially for large-scale scraping tasks.\n",
    "\n",
    "**Selenium:** Slowest due to the overhead of browser interaction.\n",
    "\n",
    "**3. Handling Dynamic Content:**\n",
    "\n",
    "**requests + BeautifulSoup:** Does not handle JavaScript-generated content.\n",
    "\n",
    "**Scrapy:** Can be extended with middlewares (e.g., Splash) to handle JavaScript, but is limited out-of-the-box.\n",
    "\n",
    "**Selenium:** Best for scraping JavaScript-heavy websites (renders dynamic content).\n"
   ]
  },
  {
   "cell_type": "markdown",
   "id": "c4bdf03f",
   "metadata": {},
   "source": [
    "#  Conclusion\n",
    "\n",
    "**Each scraping technique has its strengths and weaknesses, depending on the complexity of the website you're trying to scrape.**\n",
    "\n",
    "**For static websites, requests + BeautifulSoup is often the easiest and fastest solution.**\n",
    "\n",
    "**For more complex tasks, Scrapy provides a powerful, scalable approach.**\n",
    "\n",
    "**When dealing with JavaScript-heavy websites, Selenium shines despite its slower performance.**"
   ]
  },
  {
   "cell_type": "code",
   "execution_count": null,
   "id": "96042472",
   "metadata": {},
   "outputs": [],
   "source": []
  }
 ],
 "metadata": {
  "kernelspec": {
   "display_name": "Python 3 (ipykernel)",
   "language": "python",
   "name": "python3"
  },
  "language_info": {
   "codemirror_mode": {
    "name": "ipython",
    "version": 3
   },
   "file_extension": ".py",
   "mimetype": "text/x-python",
   "name": "python",
   "nbconvert_exporter": "python",
   "pygments_lexer": "ipython3",
   "version": "3.11.7"
  }
 },
 "nbformat": 4,
 "nbformat_minor": 5
}
